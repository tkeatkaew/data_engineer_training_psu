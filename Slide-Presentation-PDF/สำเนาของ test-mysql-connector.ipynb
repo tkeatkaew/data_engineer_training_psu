{
 "cells": [
  {
   "cell_type": "code",
   "execution_count": 9,
   "metadata": {},
   "outputs": [
    {
     "name": "stdout",
     "output_type": "stream",
     "text": [
      "\n",
      " Table Description:\n",
      "('id', 'int(10)', 'NO', '', None, '')\n",
      "('name', 'varchar(233)', 'NO', '', None, '')\n",
      "('gender', 'char(1)', 'NO', '', None, '')\n",
      "('dept', 'varchar(233)', 'NO', '', None, '')\n",
      "\n",
      " Table Data:\n",
      "1 Pichaya f computer engineering\n"
     ]
    }
   ],
   "source": [
    "# import required modules \n",
    "import mysql.connector \n",
    "\n",
    "# create connection object \n",
    "con = mysql.connector.connect( \n",
    "host=\"localhost\", user=\"root\", \n",
    "password=\"\", database=\"testdb\") \n",
    "\n",
    "# create cursor object \n",
    "cursor = con.cursor() \n",
    "\n",
    "# assign data query \n",
    "query1 = \"desc demo\"\n",
    "\n",
    "# executing cursor \n",
    "cursor.execute(query1) \n",
    "\n",
    "# display all records \n",
    "table = cursor.fetchall() \n",
    "\n",
    "# describe table \n",
    "print('\\n Table Description:') \n",
    "for attr in table: \n",
    "\tprint(attr) \n",
    "\n",
    "# assign data query \n",
    "query2 = \"select * from demo\"\n",
    "\n",
    "# executing cursor \n",
    "cursor.execute(query2) \n",
    "\n",
    "# display all records \n",
    "table = cursor.fetchall() \n",
    "\n",
    "# fetch all columns \n",
    "print('\\n Table Data:') \n",
    "for row in table: \n",
    "\tprint(row[0], end=\" \") \n",
    "\tprint(row[1], end=\" \") \n",
    "\tprint(row[2], end=\" \") \n",
    "\tprint(row[3], end=\"\\n\") \n",
    "\t\n",
    "# closing cursor connection \n",
    "cursor.close() \n",
    "\n",
    "# closing connection object \n",
    "con.close()\n"
   ]
  }
 ],
 "metadata": {
  "kernelspec": {
   "display_name": "Python 3",
   "language": "python",
   "name": "python3"
  },
  "language_info": {
   "codemirror_mode": {
    "name": "ipython",
    "version": 3
   },
   "file_extension": ".py",
   "mimetype": "text/x-python",
   "name": "python",
   "nbconvert_exporter": "python",
   "pygments_lexer": "ipython3",
   "version": "3.12.0"
  }
 },
 "nbformat": 4,
 "nbformat_minor": 2
}
