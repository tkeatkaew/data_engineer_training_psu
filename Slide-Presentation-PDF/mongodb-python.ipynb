{
 "cells": [
  {
   "cell_type": "markdown",
   "metadata": {},
   "source": []
  },
  {
   "cell_type": "markdown",
   "metadata": {},
   "source": [
    "import pymango library และสร้าง  Connection ระหว่าง  MongoDBServer  และ  Python"
   ]
  },
  {
   "cell_type": "code",
   "execution_count": 1,
   "metadata": {},
   "outputs": [],
   "source": [
    "import pymongo\n",
    "client = pymongo.MongoClient('mongodb://localhost:27017/')\n"
   ]
  },
  {
   "cell_type": "markdown",
   "metadata": {},
   "source": [
    "สร้างฐานข้อมูล  Employee"
   ]
  },
  {
   "cell_type": "code",
   "execution_count": 2,
   "metadata": {},
   "outputs": [],
   "source": [
    "mydb = client['Employee']"
   ]
  },
  {
   "cell_type": "markdown",
   "metadata": {},
   "source": [
    "สร้าง collection  ของ ‘employee information’ ใน ‘ Employee’ db"
   ]
  },
  {
   "cell_type": "code",
   "execution_count": 3,
   "metadata": {},
   "outputs": [],
   "source": [
    "empinfo = mydb.employeeinformation"
   ]
  },
  {
   "cell_type": "markdown",
   "metadata": {},
   "source": [
    "เพิ่ม  document ใน collection โดยใช้  insert_one()"
   ]
  },
  {
   "cell_type": "code",
   "execution_count": 4,
   "metadata": {},
   "outputs": [
    {
     "data": {
      "text/plain": [
       "InsertOneResult(ObjectId('655b39a3c17d1176a3d5fa2b'), acknowledged=True)"
      ]
     },
     "execution_count": 4,
     "metadata": {},
     "output_type": "execute_result"
    }
   ],
   "source": [
    "record = {\n",
    "    'firstname' : 'Rii',\n",
    "    'lastname' : 'Nani',\n",
    "    'department' : 'Analytics',\n",
    "    'qualification' : 'MS',\n",
    "    'age' : 25\n",
    "}\n",
    "empinfo.insert_one(record)"
   ]
  },
  {
   "cell_type": "markdown",
   "metadata": {},
   "source": [
    "เพิ่มหลาย  record โดยใช้ inser_many()"
   ]
  },
  {
   "cell_type": "code",
   "execution_count": 5,
   "metadata": {},
   "outputs": [],
   "source": [
    "records = [{\n",
    "    'firstname' : 'Leo',\n",
    "    'lastname' : 'Doe',\n",
    "    'department' : 'Analytics',\n",
    "    'qualification' : 'Statistics',\n",
    "    'age' : 35\n",
    "},\n",
    "{\n",
    "    'firstname' : 'Scotch',\n",
    "    'lastname' : 'Smith',\n",
    "    'department' : 'Analytics',\n",
    "    'qualification' : 'Masters',\n",
    "    'age' : 30\n",
    "},\n",
    "{\n",
    "    'firstname' : 'Olive',\n",
    "    'lastname' : 'Sen',\n",
    "    'department' : 'Analytics',\n",
    "    'qualification' : 'PhD',\n",
    "    'age' : 34\n",
    "},\n",
    "{\n",
    "    'firstname' : 'Sam',\n",
    "    'lastname' : 'Singh',\n",
    "    'department' : 'Analytics',\n",
    "    'qualification' : 'Master',\n",
    "    'age' : 35\n",
    "}]"
   ]
  },
  {
   "cell_type": "markdown",
   "metadata": {},
   "source": [
    "ส่งผ่าน  record (object) โดยใช้  insert_many()"
   ]
  },
  {
   "cell_type": "code",
   "execution_count": 6,
   "metadata": {},
   "outputs": [
    {
     "data": {
      "text/plain": [
       "InsertManyResult([ObjectId('655b3ae9c17d1176a3d5fa2c'), ObjectId('655b3ae9c17d1176a3d5fa2d'), ObjectId('655b3ae9c17d1176a3d5fa2e'), ObjectId('655b3ae9c17d1176a3d5fa2f')], acknowledged=True)"
      ]
     },
     "execution_count": 6,
     "metadata": {},
     "output_type": "execute_result"
    }
   ],
   "source": [
    "empinfo.insert_many(records)"
   ]
  },
  {
   "cell_type": "markdown",
   "metadata": {},
   "source": [
    "ค้นหาโดยใช้คำสั่ง find_one()"
   ]
  },
  {
   "cell_type": "code",
   "execution_count": 7,
   "metadata": {},
   "outputs": [
    {
     "data": {
      "text/plain": [
       "{'_id': ObjectId('655b39a3c17d1176a3d5fa2b'),\n",
       " 'firstname': 'Rii',\n",
       " 'lastname': 'Nani',\n",
       " 'department': 'Analytics',\n",
       " 'qualification': 'MS',\n",
       " 'age': 25}"
      ]
     },
     "execution_count": 7,
     "metadata": {},
     "output_type": "execute_result"
    }
   ],
   "source": [
    "empinfo.find_one()"
   ]
  },
  {
   "cell_type": "markdown",
   "metadata": {},
   "source": [
    "ค้นหาทุก record"
   ]
  },
  {
   "cell_type": "code",
   "execution_count": 8,
   "metadata": {},
   "outputs": [
    {
     "name": "stdout",
     "output_type": "stream",
     "text": [
      "{'_id': ObjectId('655b39a3c17d1176a3d5fa2b'), 'firstname': 'Rii', 'lastname': 'Nani', 'department': 'Analytics', 'qualification': 'MS', 'age': 25}\n",
      "{'_id': ObjectId('655b3ae9c17d1176a3d5fa2c'), 'firstname': 'Leo', 'lastname': 'Doe', 'department': 'Analytics', 'qualification': 'Statistics', 'age': 35}\n",
      "{'_id': ObjectId('655b3ae9c17d1176a3d5fa2d'), 'firstname': 'Scotch', 'lastname': 'Smith', 'department': 'Analytics', 'qualification': 'Masters', 'age': 30}\n",
      "{'_id': ObjectId('655b3ae9c17d1176a3d5fa2e'), 'firstname': 'Olive', 'lastname': 'Sen', 'department': 'Analytics', 'qualification': 'PhD', 'age': 34}\n",
      "{'_id': ObjectId('655b3ae9c17d1176a3d5fa2f'), 'firstname': 'Sam', 'lastname': 'Singh', 'department': 'Analytics', 'qualification': 'Master', 'age': 35}\n"
     ]
    }
   ],
   "source": [
    "for record in empinfo.find():\n",
    "    print(record)"
   ]
  },
  {
   "cell_type": "markdown",
   "metadata": {},
   "source": [
    "ค้นหา JSON document  ที่ตรงตามเงื่อนไข"
   ]
  },
  {
   "cell_type": "code",
   "execution_count": 9,
   "metadata": {},
   "outputs": [
    {
     "name": "stdout",
     "output_type": "stream",
     "text": [
      "{'_id': ObjectId('655b3ae9c17d1176a3d5fa2e'), 'firstname': 'Olive', 'lastname': 'Sen', 'department': 'Analytics', 'qualification': 'PhD', 'age': 34}\n"
     ]
    }
   ],
   "source": [
    "for record in empinfo.find({'firstname':'Olive'}):\n",
    "    print(record)"
   ]
  },
  {
   "cell_type": "markdown",
   "metadata": {},
   "source": [
    "ค้นหาโดยใช้  Query Operators\n",
    "$in (Matches any of the values in an array)\n",
    "$lt (Less than)\n",
    "$gt (Greater than)\n",
    "AND \n",
    "OR"
   ]
  },
  {
   "cell_type": "code",
   "execution_count": 11,
   "metadata": {},
   "outputs": [
    {
     "name": "stdout",
     "output_type": "stream",
     "text": [
      "{'_id': ObjectId('655b3ae9c17d1176a3d5fa2e'), 'firstname': 'Olive', 'lastname': 'Sen', 'department': 'Analytics', 'qualification': 'PhD', 'age': 34}\n",
      "{'_id': ObjectId('655b3ae9c17d1176a3d5fa2f'), 'firstname': 'Sam', 'lastname': 'Singh', 'department': 'Analytics', 'qualification': 'Master', 'age': 35}\n"
     ]
    }
   ],
   "source": [
    "for record in empinfo.find({'qualification':{'$in':['PhD','Master']}}):\n",
    "    print(record)"
   ]
  },
  {
   "cell_type": "code",
   "execution_count": 15,
   "metadata": {},
   "outputs": [
    {
     "name": "stdout",
     "output_type": "stream",
     "text": [
      "{'_id': ObjectId('655b3ae9c17d1176a3d5fa2d'), 'firstname': 'Scotch', 'lastname': 'Smith', 'department': 'Analytics', 'qualification': 'Masters', 'age': 30}\n"
     ]
    }
   ],
   "source": [
    "for record in empinfo.find({'qualification': 'Masters','age':{'$lt':35}}):\n",
    "    print(record)"
   ]
  },
  {
   "cell_type": "code",
   "execution_count": 16,
   "metadata": {},
   "outputs": [
    {
     "name": "stdout",
     "output_type": "stream",
     "text": [
      "{'_id': ObjectId('655b3ae9c17d1176a3d5fa2c'), 'firstname': 'Leo', 'lastname': 'Doe', 'department': 'Analytics', 'qualification': 'Statistics', 'age': 35}\n",
      "{'_id': ObjectId('655b3ae9c17d1176a3d5fa2d'), 'firstname': 'Scotch', 'lastname': 'Smith', 'department': 'Analytics', 'qualification': 'Masters', 'age': 30}\n",
      "{'_id': ObjectId('655b3ae9c17d1176a3d5fa2e'), 'firstname': 'Olive', 'lastname': 'Sen', 'department': 'Analytics', 'qualification': 'PhD', 'age': 34}\n",
      "{'_id': ObjectId('655b3ae9c17d1176a3d5fa2f'), 'firstname': 'Sam', 'lastname': 'Singh', 'department': 'Analytics', 'qualification': 'Master', 'age': 35}\n"
     ]
    }
   ],
   "source": [
    "for record in empinfo.find({'age':{'$gt':25}}):\n",
    "    print(record)"
   ]
  },
  {
   "cell_type": "code",
   "execution_count": 18,
   "metadata": {},
   "outputs": [
    {
     "name": "stdout",
     "output_type": "stream",
     "text": [
      "{'_id': ObjectId('655b3ae9c17d1176a3d5fa2f'), 'firstname': 'Sam', 'lastname': 'Singh', 'department': 'Analytics', 'qualification': 'Master', 'age': 35}\n"
     ]
    }
   ],
   "source": [
    "for record in empinfo.find({'$and':[{'firstname':'Sam'}, {'qualification':'Master'}]}):\n",
    "    print(record)"
   ]
  },
  {
   "cell_type": "code",
   "execution_count": 19,
   "metadata": {},
   "outputs": [
    {
     "name": "stdout",
     "output_type": "stream",
     "text": [
      "{'_id': ObjectId('655b3ae9c17d1176a3d5fa2e'), 'firstname': 'Olive', 'lastname': 'Sen', 'department': 'Analytics', 'qualification': 'PhD', 'age': 34}\n"
     ]
    }
   ],
   "source": [
    "for record in empinfo.find({'$or':[{'firstname':'Olive'}, {'qualification':'BE'}]}):\n",
    "    print(record)"
   ]
  },
  {
   "cell_type": "markdown",
   "metadata": {},
   "source": [
    "ทำงานกับ  Nested JSON documents"
   ]
  },
  {
   "cell_type": "markdown",
   "metadata": {},
   "source": [
    "สร้าง  'inventory' collection  ใน  'Employee' database"
   ]
  },
  {
   "cell_type": "code",
   "execution_count": 21,
   "metadata": {},
   "outputs": [],
   "source": [
    "inventory = mydb.inventory"
   ]
  },
  {
   "cell_type": "markdown",
   "metadata": {},
   "source": [
    "เพิ่ม JSON  documents และ Nested JSON documents"
   ]
  },
  {
   "cell_type": "code",
   "execution_count": 25,
   "metadata": {},
   "outputs": [
    {
     "data": {
      "text/plain": [
       "InsertManyResult([ObjectId('655b468cc17d1176a3d5fa3f'), ObjectId('655b468cc17d1176a3d5fa40'), ObjectId('655b468cc17d1176a3d5fa41'), ObjectId('655b468cc17d1176a3d5fa42'), ObjectId('655b468cc17d1176a3d5fa43')], acknowledged=True)"
      ]
     },
     "execution_count": 25,
     "metadata": {},
     "output_type": "execute_result"
    }
   ],
   "source": [
    "inventory.insert_many([\n",
    "    {'item':\"journal\",'qty':25,'size':{'h':14,'w':21,'uom':\"cm\"},'status':\"A\"},\n",
    "    {'item':\"notebook\",'qty':50,'size':{'h':8.5,'w':11,'uom':\"in\"},'status':\"A\"},\n",
    "    {'item':\"paper\",'qty':100,'size':{'h':8.5,'w':11,'uom':\"in\"},'status':\"D\"},\n",
    "    {'item':\"planner\",'qty':75,'size':{'h':22.05,'w':30,'uom':\"cm\"},'status':\"D\"},\n",
    "    {'item':\"postcard\",'qty':45,'size':{'h':10,'w':15.25,'uom':\"cm\"},'status':\"A\"}\n",
    "])"
   ]
  },
  {
   "cell_type": "markdown",
   "metadata": {},
   "source": [
    "ค้นหา  Nested JSON documents\n"
   ]
  },
  {
   "cell_type": "code",
   "execution_count": 26,
   "metadata": {},
   "outputs": [
    {
     "name": "stdout",
     "output_type": "stream",
     "text": [
      "{'_id': ObjectId('655b3ae9c17d1176a3d5fa2e'), 'firstname': 'Olive', 'lastname': 'Sen', 'department': 'Analytics', 'qualification': 'PhD', 'age': 34}\n",
      "{'_id': ObjectId('655b3ae9c17d1176a3d5fa2e'), 'firstname': 'Olive', 'lastname': 'Sen', 'department': 'Analytics', 'qualification': 'PhD', 'age': 34}\n",
      "{'_id': ObjectId('655b3ae9c17d1176a3d5fa2e'), 'firstname': 'Olive', 'lastname': 'Sen', 'department': 'Analytics', 'qualification': 'PhD', 'age': 34}\n",
      "{'_id': ObjectId('655b3ae9c17d1176a3d5fa2e'), 'firstname': 'Olive', 'lastname': 'Sen', 'department': 'Analytics', 'qualification': 'PhD', 'age': 34}\n"
     ]
    }
   ],
   "source": [
    "for records in inventory.find({'size':{'h': 14, 'w':21, 'uom':\"cm\" }}):\n",
    "    print(record)"
   ]
  },
  {
   "cell_type": "markdown",
   "metadata": {},
   "source": [
    "๊Update JSON Documents\n",
    "update_one()\n",
    "update_many()\n",
    "replace_one()"
   ]
  },
  {
   "cell_type": "code",
   "execution_count": 30,
   "metadata": {},
   "outputs": [],
   "source": [
    "import pymongo\n",
    "client = pymongo.MongoClient('mongodb://127.0.0.1:27017/')\n",
    "mydb = client['Employee']\n",
    "inventory = mydb.inventory"
   ]
  },
  {
   "cell_type": "code",
   "execution_count": 31,
   "metadata": {},
   "outputs": [
    {
     "data": {
      "text/plain": [
       "InsertManyResult([ObjectId('655b4e85c17d1176a3d5fa45'), ObjectId('655b4e85c17d1176a3d5fa46'), ObjectId('655b4e85c17d1176a3d5fa47'), ObjectId('655b4e85c17d1176a3d5fa48'), ObjectId('655b4e85c17d1176a3d5fa49'), ObjectId('655b4e85c17d1176a3d5fa4a'), ObjectId('655b4e85c17d1176a3d5fa4b'), ObjectId('655b4e85c17d1176a3d5fa4c'), ObjectId('655b4e85c17d1176a3d5fa4d'), ObjectId('655b4e85c17d1176a3d5fa4e')], acknowledged=True)"
      ]
     },
     "execution_count": 31,
     "metadata": {},
     "output_type": "execute_result"
    }
   ],
   "source": [
    "inventory.insert_many([\n",
    "    {\"item\":\"canvas\",\n",
    "    \"qty\":100,\n",
    "    \"size\":{\"h\":28,\"w\":35.5,\"uom\":\"cm\"},\n",
    "    \"status\":\"A\"},\n",
    "    {\"item\":\"journal\",\n",
    "    \"qty\":25,\n",
    "    \"size\":{\"h\":14,\"w\":21,\"uom\":\"cm\"},\n",
    "    \"status\":\"A\"},\n",
    "    {\"item\":\"mat\",\n",
    "    \"qty\":85,\n",
    "    \"size\":{\"h\":27.9,\"w\":35.5,\"uom\":\"cm\"},\n",
    "    \"status\":\"A\"},\n",
    "    {\"item\":\"mousepad\",\n",
    "    \"qty\":25,\n",
    "    \"size\":{\"h\":19,\"w\":22.85,\"uom\":\"cm\"},\n",
    "    \"status\":\"P\"},\n",
    "    {\"item\":\"notebook\",\n",
    "    \"qty\":50,\n",
    "    \"size\":{\"h\":8.5,\"w\":11,\"uom\":\"in\"},\n",
    "    \"status\":\"P\"},\n",
    "    {\"item\":\"paper\",\n",
    "    \"qty\":100,\n",
    "    \"size\":{\"h\":8.5,\"w\":11,\"uom\":\"in\"},\n",
    "    \"status\":\"D\"},\n",
    "    {\"item\":\"Planner\",\n",
    "    \"qty\":75,\n",
    "    \"size\":{\"h\":22.85,\"w\":30,\"uom\":\"cm\"},\n",
    "    \"status\":\"D\"},\n",
    "    {\"item\":\"postcard\",\n",
    "    \"qty\":45,\n",
    "    \"size\":{\"h\":10,\"w\":15.25,\"uom\":\"cm\"},\n",
    "    \"status\":\"A\"},\n",
    "    {\"item\":\"sketchbook\",\n",
    "    \"qty\":80,\n",
    "    \"size\":{\"h\":14,\"w\":21,\"uom\":\"cm\"},\n",
    "    \"status\":\"A\"},\n",
    "      {\"item\":\"sketchpad\",\n",
    "    \"qty\":95,\n",
    "    \"size\":{\"h\":22.85,\"w\":30.5,\"uom\":\"cm\"},\n",
    "    \"status\":\"A\"}\n",
    "])"
   ]
  },
  {
   "cell_type": "markdown",
   "metadata": {},
   "source": [
    "Use '$set' opertor to update/add records\n",
    "Use '$currentDate' opertor to add datetime variable"
   ]
  },
  {
   "cell_type": "markdown",
   "metadata": {},
   "source": [
    "update_one()"
   ]
  },
  {
   "cell_type": "code",
   "execution_count": 36,
   "metadata": {},
   "outputs": [
    {
     "data": {
      "text/plain": [
       "UpdateResult({'n': 1, 'nModified': 1, 'ok': 1.0, 'updatedExisting': True}, acknowledged=True)"
      ]
     },
     "execution_count": 36,
     "metadata": {},
     "output_type": "execute_result"
    }
   ],
   "source": [
    "inventory.update_one(\n",
    "    {\"item\":\"sketchpad\"},\n",
    "    {\"$set\":{\"size.uom\":\"m\",\"status\":\"P\"}, \"$currentDate\":{\"lastModified\":True}}\n",
    ")"
   ]
  },
  {
   "cell_type": "markdown",
   "metadata": {},
   "source": [
    "update_many()"
   ]
  },
  {
   "cell_type": "code",
   "execution_count": 37,
   "metadata": {},
   "outputs": [
    {
     "name": "stdout",
     "output_type": "stream",
     "text": [
      "{'_id': ObjectId('655b4637c17d1176a3d5fa30'), 'item': 'journal', 'qty': 25, 'size': {'h': 14, 'w': 21, 'uom': 'cm'}, 'status': 'A'}\n",
      "{'_id': ObjectId('655b4637c17d1176a3d5fa34'), 'item': 'postcard', 'qty': 45, 'size': {'h': 10, 'w': 15.25, 'uom': 'cm'}, 'status': 'A'}\n",
      "{'_id': ObjectId('655b4656c17d1176a3d5fa35'), 'item': 'journal', 'qty': 25, 'size': {'h': 14, 'w': 21, 'uom': 'cm'}, 'status': 'A'}\n",
      "{'_id': ObjectId('655b4656c17d1176a3d5fa39'), 'item': 'postcard', 'qty': 45, 'size': {'h': 10, 'w': 15.25, 'uom': 'cm'}, 'status': 'A'}\n",
      "{'_id': ObjectId('655b4661c17d1176a3d5fa3a'), 'item': 'journal', 'qty': 25, 'size': {'h': 14, 'w': 21, 'uom': 'cm'}, 'status': 'A'}\n",
      "{'_id': ObjectId('655b4661c17d1176a3d5fa3e'), 'item': 'postcard', 'qty': 45, 'size': {'h': 10, 'w': 15.25, 'uom': 'cm'}, 'status': 'A'}\n",
      "{'_id': ObjectId('655b468cc17d1176a3d5fa3f'), 'item': 'journal', 'qty': 25, 'size': {'h': 14, 'w': 21, 'uom': 'cm'}, 'status': 'A'}\n",
      "{'_id': ObjectId('655b468cc17d1176a3d5fa43'), 'item': 'postcard', 'qty': 45, 'size': {'h': 10, 'w': 15.25, 'uom': 'cm'}, 'status': 'A'}\n",
      "{'_id': ObjectId('655b4e85c17d1176a3d5fa46'), 'item': 'journal', 'qty': 25, 'size': {'h': 14, 'w': 21, 'uom': 'cm'}, 'status': 'A'}\n",
      "{'_id': ObjectId('655b4e85c17d1176a3d5fa48'), 'item': 'mousepad', 'qty': 25, 'size': {'h': 19, 'w': 22.85, 'uom': 'cm'}, 'status': 'P'}\n",
      "{'_id': ObjectId('655b4e85c17d1176a3d5fa4c'), 'item': 'postcard', 'qty': 45, 'size': {'h': 10, 'w': 15.25, 'uom': 'cm'}, 'status': 'A'}\n"
     ]
    }
   ],
   "source": [
    "for record in inventory.find({'qty':{'$lt':50}}):\n",
    "    print(record)"
   ]
  },
  {
   "cell_type": "markdown",
   "metadata": {},
   "source": [
    "replace_one()"
   ]
  },
  {
   "cell_type": "code",
   "execution_count": 39,
   "metadata": {},
   "outputs": [
    {
     "name": "stdout",
     "output_type": "stream",
     "text": [
      "{'_id': ObjectId('655b4637c17d1176a3d5fa32'), 'item': 'paper', 'qty': 100, 'size': {'h': 8.5, 'w': 11, 'uom': 'in'}, 'status': 'D'}\n",
      "{'_id': ObjectId('655b4656c17d1176a3d5fa37'), 'item': 'paper', 'qty': 100, 'size': {'h': 8.5, 'w': 11, 'uom': 'in'}, 'status': 'D'}\n",
      "{'_id': ObjectId('655b4661c17d1176a3d5fa3c'), 'item': 'paper', 'qty': 100, 'size': {'h': 8.5, 'w': 11, 'uom': 'in'}, 'status': 'D'}\n",
      "{'_id': ObjectId('655b468cc17d1176a3d5fa41'), 'item': 'paper', 'qty': 100, 'size': {'h': 8.5, 'w': 11, 'uom': 'in'}, 'status': 'D'}\n",
      "{'_id': ObjectId('655b4e85c17d1176a3d5fa4a'), 'item': 'paper', 'qty': 100, 'size': {'h': 8.5, 'w': 11, 'uom': 'in'}, 'status': 'D'}\n"
     ]
    }
   ],
   "source": [
    "for record in inventory.find({'item':'paper'}):\n",
    "    print(record)"
   ]
  },
  {
   "cell_type": "code",
   "execution_count": 44,
   "metadata": {},
   "outputs": [
    {
     "data": {
      "text/plain": [
       "UpdateResult({'n': 1, 'nModified': 1, 'ok': 1.0, 'updatedExisting': True}, acknowledged=True)"
      ]
     },
     "execution_count": 44,
     "metadata": {},
     "output_type": "execute_result"
    }
   ],
   "source": [
    "inventory.replace_one(\n",
    "    {\"item\":\"paper\"},\n",
    "    {\"item\":\"paper\", \"instock\":[{\"warehouse\":\"A\",\"qty\":60}, {\"warehouse\":\"B\",\"qty\":40}]})"
   ]
  },
  {
   "cell_type": "markdown",
   "metadata": {},
   "source": [
    "create a dataframe using pandas for MongoDB Collection"
   ]
  },
  {
   "cell_type": "code",
   "execution_count": 46,
   "metadata": {},
   "outputs": [
    {
     "data": {
      "text/html": [
       "<div>\n",
       "<style scoped>\n",
       "    .dataframe tbody tr th:only-of-type {\n",
       "        vertical-align: middle;\n",
       "    }\n",
       "\n",
       "    .dataframe tbody tr th {\n",
       "        vertical-align: top;\n",
       "    }\n",
       "\n",
       "    .dataframe thead th {\n",
       "        text-align: right;\n",
       "    }\n",
       "</style>\n",
       "<table border=\"1\" class=\"dataframe\">\n",
       "  <thead>\n",
       "    <tr style=\"text-align: right;\">\n",
       "      <th></th>\n",
       "      <th>_id</th>\n",
       "      <th>item</th>\n",
       "      <th>qty</th>\n",
       "      <th>size</th>\n",
       "      <th>status</th>\n",
       "      <th>instock</th>\n",
       "      <th>lastModified</th>\n",
       "    </tr>\n",
       "  </thead>\n",
       "  <tbody>\n",
       "    <tr>\n",
       "      <th>0</th>\n",
       "      <td>655b4637c17d1176a3d5fa30</td>\n",
       "      <td>journal</td>\n",
       "      <td>25.0</td>\n",
       "      <td>{'h': 14, 'w': 21, 'uom': 'cm'}</td>\n",
       "      <td>A</td>\n",
       "      <td>NaN</td>\n",
       "      <td>NaT</td>\n",
       "    </tr>\n",
       "    <tr>\n",
       "      <th>1</th>\n",
       "      <td>655b4637c17d1176a3d5fa31</td>\n",
       "      <td>notebook</td>\n",
       "      <td>50.0</td>\n",
       "      <td>{'h': 8.5, 'w': 11, 'uom': 'in'}</td>\n",
       "      <td>A</td>\n",
       "      <td>NaN</td>\n",
       "      <td>NaT</td>\n",
       "    </tr>\n",
       "    <tr>\n",
       "      <th>2</th>\n",
       "      <td>655b4637c17d1176a3d5fa32</td>\n",
       "      <td>paper</td>\n",
       "      <td>NaN</td>\n",
       "      <td>NaN</td>\n",
       "      <td>NaN</td>\n",
       "      <td>[{'warehouse': 'A', 'qty': 60}, {'warehouse': ...</td>\n",
       "      <td>NaT</td>\n",
       "    </tr>\n",
       "    <tr>\n",
       "      <th>3</th>\n",
       "      <td>655b4637c17d1176a3d5fa33</td>\n",
       "      <td>planner</td>\n",
       "      <td>75.0</td>\n",
       "      <td>{'h': 22.05, 'w': 30, 'uom': 'cm'}</td>\n",
       "      <td>D</td>\n",
       "      <td>NaN</td>\n",
       "      <td>NaT</td>\n",
       "    </tr>\n",
       "    <tr>\n",
       "      <th>4</th>\n",
       "      <td>655b4637c17d1176a3d5fa34</td>\n",
       "      <td>postcard</td>\n",
       "      <td>45.0</td>\n",
       "      <td>{'h': 10, 'w': 15.25, 'uom': 'cm'}</td>\n",
       "      <td>A</td>\n",
       "      <td>NaN</td>\n",
       "      <td>NaT</td>\n",
       "    </tr>\n",
       "    <tr>\n",
       "      <th>5</th>\n",
       "      <td>655b4656c17d1176a3d5fa35</td>\n",
       "      <td>journal</td>\n",
       "      <td>25.0</td>\n",
       "      <td>{'h': 14, 'w': 21, 'uom': 'cm'}</td>\n",
       "      <td>A</td>\n",
       "      <td>NaN</td>\n",
       "      <td>NaT</td>\n",
       "    </tr>\n",
       "    <tr>\n",
       "      <th>6</th>\n",
       "      <td>655b4656c17d1176a3d5fa36</td>\n",
       "      <td>notebook</td>\n",
       "      <td>50.0</td>\n",
       "      <td>{'h': 8.5, 'w': 11, 'uom': 'in'}</td>\n",
       "      <td>A</td>\n",
       "      <td>NaN</td>\n",
       "      <td>NaT</td>\n",
       "    </tr>\n",
       "    <tr>\n",
       "      <th>7</th>\n",
       "      <td>655b4656c17d1176a3d5fa37</td>\n",
       "      <td>paper</td>\n",
       "      <td>100.0</td>\n",
       "      <td>{'h': 8.5, 'w': 11, 'uom': 'in'}</td>\n",
       "      <td>D</td>\n",
       "      <td>NaN</td>\n",
       "      <td>NaT</td>\n",
       "    </tr>\n",
       "    <tr>\n",
       "      <th>8</th>\n",
       "      <td>655b4656c17d1176a3d5fa38</td>\n",
       "      <td>planner</td>\n",
       "      <td>75.0</td>\n",
       "      <td>{'h': 22.05, 'w': 30, 'uom': 'cm'}</td>\n",
       "      <td>D</td>\n",
       "      <td>NaN</td>\n",
       "      <td>NaT</td>\n",
       "    </tr>\n",
       "    <tr>\n",
       "      <th>9</th>\n",
       "      <td>655b4656c17d1176a3d5fa39</td>\n",
       "      <td>postcard</td>\n",
       "      <td>45.0</td>\n",
       "      <td>{'h': 10, 'w': 15.25, 'uom': 'cm'}</td>\n",
       "      <td>A</td>\n",
       "      <td>NaN</td>\n",
       "      <td>NaT</td>\n",
       "    </tr>\n",
       "    <tr>\n",
       "      <th>10</th>\n",
       "      <td>655b4661c17d1176a3d5fa3a</td>\n",
       "      <td>journal</td>\n",
       "      <td>25.0</td>\n",
       "      <td>{'h': 14, 'w': 21, 'uom': 'cm'}</td>\n",
       "      <td>A</td>\n",
       "      <td>NaN</td>\n",
       "      <td>NaT</td>\n",
       "    </tr>\n",
       "    <tr>\n",
       "      <th>11</th>\n",
       "      <td>655b4661c17d1176a3d5fa3b</td>\n",
       "      <td>notebook</td>\n",
       "      <td>50.0</td>\n",
       "      <td>{'h': 8.5, 'w': 11, 'uom': 'in'}</td>\n",
       "      <td>A</td>\n",
       "      <td>NaN</td>\n",
       "      <td>NaT</td>\n",
       "    </tr>\n",
       "    <tr>\n",
       "      <th>12</th>\n",
       "      <td>655b4661c17d1176a3d5fa3c</td>\n",
       "      <td>paper</td>\n",
       "      <td>100.0</td>\n",
       "      <td>{'h': 8.5, 'w': 11, 'uom': 'in'}</td>\n",
       "      <td>D</td>\n",
       "      <td>NaN</td>\n",
       "      <td>NaT</td>\n",
       "    </tr>\n",
       "    <tr>\n",
       "      <th>13</th>\n",
       "      <td>655b4661c17d1176a3d5fa3d</td>\n",
       "      <td>planner</td>\n",
       "      <td>75.0</td>\n",
       "      <td>{'h': 22.05, 'w': 30, 'uom': 'cm'}</td>\n",
       "      <td>D</td>\n",
       "      <td>NaN</td>\n",
       "      <td>NaT</td>\n",
       "    </tr>\n",
       "    <tr>\n",
       "      <th>14</th>\n",
       "      <td>655b4661c17d1176a3d5fa3e</td>\n",
       "      <td>postcard</td>\n",
       "      <td>45.0</td>\n",
       "      <td>{'h': 10, 'w': 15.25, 'uom': 'cm'}</td>\n",
       "      <td>A</td>\n",
       "      <td>NaN</td>\n",
       "      <td>NaT</td>\n",
       "    </tr>\n",
       "    <tr>\n",
       "      <th>15</th>\n",
       "      <td>655b468cc17d1176a3d5fa3f</td>\n",
       "      <td>journal</td>\n",
       "      <td>25.0</td>\n",
       "      <td>{'h': 14, 'w': 21, 'uom': 'cm'}</td>\n",
       "      <td>A</td>\n",
       "      <td>NaN</td>\n",
       "      <td>NaT</td>\n",
       "    </tr>\n",
       "    <tr>\n",
       "      <th>16</th>\n",
       "      <td>655b468cc17d1176a3d5fa40</td>\n",
       "      <td>notebook</td>\n",
       "      <td>50.0</td>\n",
       "      <td>{'h': 8.5, 'w': 11, 'uom': 'in'}</td>\n",
       "      <td>A</td>\n",
       "      <td>NaN</td>\n",
       "      <td>NaT</td>\n",
       "    </tr>\n",
       "    <tr>\n",
       "      <th>17</th>\n",
       "      <td>655b468cc17d1176a3d5fa41</td>\n",
       "      <td>paper</td>\n",
       "      <td>100.0</td>\n",
       "      <td>{'h': 8.5, 'w': 11, 'uom': 'in'}</td>\n",
       "      <td>D</td>\n",
       "      <td>NaN</td>\n",
       "      <td>NaT</td>\n",
       "    </tr>\n",
       "    <tr>\n",
       "      <th>18</th>\n",
       "      <td>655b468cc17d1176a3d5fa42</td>\n",
       "      <td>planner</td>\n",
       "      <td>75.0</td>\n",
       "      <td>{'h': 22.05, 'w': 30, 'uom': 'cm'}</td>\n",
       "      <td>D</td>\n",
       "      <td>NaN</td>\n",
       "      <td>NaT</td>\n",
       "    </tr>\n",
       "    <tr>\n",
       "      <th>19</th>\n",
       "      <td>655b468cc17d1176a3d5fa43</td>\n",
       "      <td>postcard</td>\n",
       "      <td>45.0</td>\n",
       "      <td>{'h': 10, 'w': 15.25, 'uom': 'cm'}</td>\n",
       "      <td>A</td>\n",
       "      <td>NaN</td>\n",
       "      <td>NaT</td>\n",
       "    </tr>\n",
       "    <tr>\n",
       "      <th>20</th>\n",
       "      <td>655b4e85c17d1176a3d5fa45</td>\n",
       "      <td>canvas</td>\n",
       "      <td>100.0</td>\n",
       "      <td>{'h': 28, 'w': 35.5, 'uom': 'cm'}</td>\n",
       "      <td>A</td>\n",
       "      <td>NaN</td>\n",
       "      <td>NaT</td>\n",
       "    </tr>\n",
       "    <tr>\n",
       "      <th>21</th>\n",
       "      <td>655b4e85c17d1176a3d5fa46</td>\n",
       "      <td>journal</td>\n",
       "      <td>25.0</td>\n",
       "      <td>{'h': 14, 'w': 21, 'uom': 'cm'}</td>\n",
       "      <td>A</td>\n",
       "      <td>NaN</td>\n",
       "      <td>NaT</td>\n",
       "    </tr>\n",
       "    <tr>\n",
       "      <th>22</th>\n",
       "      <td>655b4e85c17d1176a3d5fa47</td>\n",
       "      <td>mat</td>\n",
       "      <td>85.0</td>\n",
       "      <td>{'h': 27.9, 'w': 35.5, 'uom': 'cm'}</td>\n",
       "      <td>A</td>\n",
       "      <td>NaN</td>\n",
       "      <td>NaT</td>\n",
       "    </tr>\n",
       "    <tr>\n",
       "      <th>23</th>\n",
       "      <td>655b4e85c17d1176a3d5fa48</td>\n",
       "      <td>mousepad</td>\n",
       "      <td>25.0</td>\n",
       "      <td>{'h': 19, 'w': 22.85, 'uom': 'cm'}</td>\n",
       "      <td>P</td>\n",
       "      <td>NaN</td>\n",
       "      <td>NaT</td>\n",
       "    </tr>\n",
       "    <tr>\n",
       "      <th>24</th>\n",
       "      <td>655b4e85c17d1176a3d5fa49</td>\n",
       "      <td>notebook</td>\n",
       "      <td>50.0</td>\n",
       "      <td>{'h': 8.5, 'w': 11, 'uom': 'in'}</td>\n",
       "      <td>P</td>\n",
       "      <td>NaN</td>\n",
       "      <td>NaT</td>\n",
       "    </tr>\n",
       "    <tr>\n",
       "      <th>25</th>\n",
       "      <td>655b4e85c17d1176a3d5fa4a</td>\n",
       "      <td>paper</td>\n",
       "      <td>100.0</td>\n",
       "      <td>{'h': 8.5, 'w': 11, 'uom': 'in'}</td>\n",
       "      <td>D</td>\n",
       "      <td>NaN</td>\n",
       "      <td>NaT</td>\n",
       "    </tr>\n",
       "    <tr>\n",
       "      <th>26</th>\n",
       "      <td>655b4e85c17d1176a3d5fa4b</td>\n",
       "      <td>Planner</td>\n",
       "      <td>75.0</td>\n",
       "      <td>{'h': 22.85, 'w': 30, 'uom': 'cm'}</td>\n",
       "      <td>D</td>\n",
       "      <td>NaN</td>\n",
       "      <td>NaT</td>\n",
       "    </tr>\n",
       "    <tr>\n",
       "      <th>27</th>\n",
       "      <td>655b4e85c17d1176a3d5fa4c</td>\n",
       "      <td>postcard</td>\n",
       "      <td>45.0</td>\n",
       "      <td>{'h': 10, 'w': 15.25, 'uom': 'cm'}</td>\n",
       "      <td>A</td>\n",
       "      <td>NaN</td>\n",
       "      <td>NaT</td>\n",
       "    </tr>\n",
       "    <tr>\n",
       "      <th>28</th>\n",
       "      <td>655b4e85c17d1176a3d5fa4d</td>\n",
       "      <td>sketchbook</td>\n",
       "      <td>80.0</td>\n",
       "      <td>{'h': 14, 'w': 21, 'uom': 'cm'}</td>\n",
       "      <td>A</td>\n",
       "      <td>NaN</td>\n",
       "      <td>NaT</td>\n",
       "    </tr>\n",
       "    <tr>\n",
       "      <th>29</th>\n",
       "      <td>655b4e85c17d1176a3d5fa4e</td>\n",
       "      <td>sketchpad</td>\n",
       "      <td>95.0</td>\n",
       "      <td>{'h': 22.85, 'w': 30.5, 'uom': 'm'}</td>\n",
       "      <td>P</td>\n",
       "      <td>NaN</td>\n",
       "      <td>2023-11-20 12:33:17.336</td>\n",
       "    </tr>\n",
       "  </tbody>\n",
       "</table>\n",
       "</div>"
      ],
      "text/plain": [
       "                         _id        item    qty  \\\n",
       "0   655b4637c17d1176a3d5fa30     journal   25.0   \n",
       "1   655b4637c17d1176a3d5fa31    notebook   50.0   \n",
       "2   655b4637c17d1176a3d5fa32       paper    NaN   \n",
       "3   655b4637c17d1176a3d5fa33     planner   75.0   \n",
       "4   655b4637c17d1176a3d5fa34    postcard   45.0   \n",
       "5   655b4656c17d1176a3d5fa35     journal   25.0   \n",
       "6   655b4656c17d1176a3d5fa36    notebook   50.0   \n",
       "7   655b4656c17d1176a3d5fa37       paper  100.0   \n",
       "8   655b4656c17d1176a3d5fa38     planner   75.0   \n",
       "9   655b4656c17d1176a3d5fa39    postcard   45.0   \n",
       "10  655b4661c17d1176a3d5fa3a     journal   25.0   \n",
       "11  655b4661c17d1176a3d5fa3b    notebook   50.0   \n",
       "12  655b4661c17d1176a3d5fa3c       paper  100.0   \n",
       "13  655b4661c17d1176a3d5fa3d     planner   75.0   \n",
       "14  655b4661c17d1176a3d5fa3e    postcard   45.0   \n",
       "15  655b468cc17d1176a3d5fa3f     journal   25.0   \n",
       "16  655b468cc17d1176a3d5fa40    notebook   50.0   \n",
       "17  655b468cc17d1176a3d5fa41       paper  100.0   \n",
       "18  655b468cc17d1176a3d5fa42     planner   75.0   \n",
       "19  655b468cc17d1176a3d5fa43    postcard   45.0   \n",
       "20  655b4e85c17d1176a3d5fa45      canvas  100.0   \n",
       "21  655b4e85c17d1176a3d5fa46     journal   25.0   \n",
       "22  655b4e85c17d1176a3d5fa47         mat   85.0   \n",
       "23  655b4e85c17d1176a3d5fa48    mousepad   25.0   \n",
       "24  655b4e85c17d1176a3d5fa49    notebook   50.0   \n",
       "25  655b4e85c17d1176a3d5fa4a       paper  100.0   \n",
       "26  655b4e85c17d1176a3d5fa4b     Planner   75.0   \n",
       "27  655b4e85c17d1176a3d5fa4c    postcard   45.0   \n",
       "28  655b4e85c17d1176a3d5fa4d  sketchbook   80.0   \n",
       "29  655b4e85c17d1176a3d5fa4e   sketchpad   95.0   \n",
       "\n",
       "                                   size status  \\\n",
       "0       {'h': 14, 'w': 21, 'uom': 'cm'}      A   \n",
       "1      {'h': 8.5, 'w': 11, 'uom': 'in'}      A   \n",
       "2                                   NaN    NaN   \n",
       "3    {'h': 22.05, 'w': 30, 'uom': 'cm'}      D   \n",
       "4    {'h': 10, 'w': 15.25, 'uom': 'cm'}      A   \n",
       "5       {'h': 14, 'w': 21, 'uom': 'cm'}      A   \n",
       "6      {'h': 8.5, 'w': 11, 'uom': 'in'}      A   \n",
       "7      {'h': 8.5, 'w': 11, 'uom': 'in'}      D   \n",
       "8    {'h': 22.05, 'w': 30, 'uom': 'cm'}      D   \n",
       "9    {'h': 10, 'w': 15.25, 'uom': 'cm'}      A   \n",
       "10      {'h': 14, 'w': 21, 'uom': 'cm'}      A   \n",
       "11     {'h': 8.5, 'w': 11, 'uom': 'in'}      A   \n",
       "12     {'h': 8.5, 'w': 11, 'uom': 'in'}      D   \n",
       "13   {'h': 22.05, 'w': 30, 'uom': 'cm'}      D   \n",
       "14   {'h': 10, 'w': 15.25, 'uom': 'cm'}      A   \n",
       "15      {'h': 14, 'w': 21, 'uom': 'cm'}      A   \n",
       "16     {'h': 8.5, 'w': 11, 'uom': 'in'}      A   \n",
       "17     {'h': 8.5, 'w': 11, 'uom': 'in'}      D   \n",
       "18   {'h': 22.05, 'w': 30, 'uom': 'cm'}      D   \n",
       "19   {'h': 10, 'w': 15.25, 'uom': 'cm'}      A   \n",
       "20    {'h': 28, 'w': 35.5, 'uom': 'cm'}      A   \n",
       "21      {'h': 14, 'w': 21, 'uom': 'cm'}      A   \n",
       "22  {'h': 27.9, 'w': 35.5, 'uom': 'cm'}      A   \n",
       "23   {'h': 19, 'w': 22.85, 'uom': 'cm'}      P   \n",
       "24     {'h': 8.5, 'w': 11, 'uom': 'in'}      P   \n",
       "25     {'h': 8.5, 'w': 11, 'uom': 'in'}      D   \n",
       "26   {'h': 22.85, 'w': 30, 'uom': 'cm'}      D   \n",
       "27   {'h': 10, 'w': 15.25, 'uom': 'cm'}      A   \n",
       "28      {'h': 14, 'w': 21, 'uom': 'cm'}      A   \n",
       "29  {'h': 22.85, 'w': 30.5, 'uom': 'm'}      P   \n",
       "\n",
       "                                              instock            lastModified  \n",
       "0                                                 NaN                     NaT  \n",
       "1                                                 NaN                     NaT  \n",
       "2   [{'warehouse': 'A', 'qty': 60}, {'warehouse': ...                     NaT  \n",
       "3                                                 NaN                     NaT  \n",
       "4                                                 NaN                     NaT  \n",
       "5                                                 NaN                     NaT  \n",
       "6                                                 NaN                     NaT  \n",
       "7                                                 NaN                     NaT  \n",
       "8                                                 NaN                     NaT  \n",
       "9                                                 NaN                     NaT  \n",
       "10                                                NaN                     NaT  \n",
       "11                                                NaN                     NaT  \n",
       "12                                                NaN                     NaT  \n",
       "13                                                NaN                     NaT  \n",
       "14                                                NaN                     NaT  \n",
       "15                                                NaN                     NaT  \n",
       "16                                                NaN                     NaT  \n",
       "17                                                NaN                     NaT  \n",
       "18                                                NaN                     NaT  \n",
       "19                                                NaN                     NaT  \n",
       "20                                                NaN                     NaT  \n",
       "21                                                NaN                     NaT  \n",
       "22                                                NaN                     NaT  \n",
       "23                                                NaN                     NaT  \n",
       "24                                                NaN                     NaT  \n",
       "25                                                NaN                     NaT  \n",
       "26                                                NaN                     NaT  \n",
       "27                                                NaN                     NaT  \n",
       "28                                                NaN                     NaT  \n",
       "29                                                NaN 2023-11-20 12:33:17.336  "
      ]
     },
     "execution_count": 46,
     "metadata": {},
     "output_type": "execute_result"
    }
   ],
   "source": [
    "import pandas as pd\n",
    "md_df = pd.DataFrame(list(inventory.find({})))\n",
    "md_df"
   ]
  }
 ],
 "metadata": {
  "kernelspec": {
   "display_name": "Python 3",
   "language": "python",
   "name": "python3"
  },
  "language_info": {
   "codemirror_mode": {
    "name": "ipython",
    "version": 3
   },
   "file_extension": ".py",
   "mimetype": "text/x-python",
   "name": "python",
   "nbconvert_exporter": "python",
   "pygments_lexer": "ipython3",
   "version": "3.12.0"
  }
 },
 "nbformat": 4,
 "nbformat_minor": 2
}
