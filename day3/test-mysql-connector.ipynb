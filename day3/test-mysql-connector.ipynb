{
 "cells": [
  {
   "cell_type": "code",
   "execution_count": 1,
   "metadata": {},
   "outputs": [
    {
     "name": "stdout",
     "output_type": "stream",
     "text": [
      "\n",
      " Table Description:\n",
      "('id', 'int(11)', 'NO', 'PRI', None, '')\n",
      "('name', 'varchar(80)', 'YES', '', None, '')\n",
      "('credit', 'double', 'YES', '', None, '')\n",
      "\n",
      " Table Data:\n",
      "1 First Count 10000.15\n",
      "3 Lek 50000.35\n",
      "9 Thanit 9999.9\n"
     ]
    }
   ],
   "source": [
    "# import required modules \n",
    "import mysql.connector \n",
    "\n",
    "# create connection object \n",
    "con = mysql.connector.connect(host=\"localhost\", user=\"root\", password=\"\", database=\"lab\") \n",
    "\n",
    "# create cursor object \n",
    "cursor = con.cursor() \n",
    "\n",
    "# assign data query \n",
    "query1 = \"desc customer\"\n",
    "\n",
    "# executing cursor \n",
    "cursor.execute(query1) \n",
    "\n",
    "# display all records \n",
    "table = cursor.fetchall() \n",
    "\n",
    "# describe table \n",
    "print('\\n Table Description:') \n",
    "for attr in table: \n",
    "\tprint(attr) \n",
    "\n",
    "# assign data query \n",
    "query2 = \"select * from customer\"\n",
    "\n",
    "# executing cursor \n",
    "cursor.execute(query2) \n",
    "\n",
    "# display all records \n",
    "table = cursor.fetchall() \n",
    "\n",
    "# fetch all columns \n",
    "print('\\n Table Data:') \n",
    "for row in table: \n",
    "\tprint(row[0], end=\" \") \n",
    "\tprint(row[1], end=\" \") \n",
    "\tprint(row[2], end=\"\\n\") \n",
    "\t\n",
    "# closing cursor connection \n",
    "cursor.close() \n",
    "\n",
    "# closing connection object \n",
    "con.close()\n"
   ]
  },
  {
   "cell_type": "code",
   "execution_count": null,
   "metadata": {},
   "outputs": [],
   "source": []
  }
 ],
 "metadata": {
  "kernelspec": {
   "display_name": "Python 3",
   "language": "python",
   "name": "python3"
  },
  "language_info": {
   "codemirror_mode": {
    "name": "ipython",
    "version": 3
   },
   "file_extension": ".py",
   "mimetype": "text/x-python",
   "name": "python",
   "nbconvert_exporter": "python",
   "pygments_lexer": "ipython3",
   "version": "3.13.5"
  }
 },
 "nbformat": 4,
 "nbformat_minor": 2
}
